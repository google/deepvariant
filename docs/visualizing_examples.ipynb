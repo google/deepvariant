{
  "nbformat": 4,
  "nbformat_minor": 0,
  "metadata": {
    "colab": {
      "name": "visualizing_examples.ipynb",
      "provenance": [],
      "include_colab_link": true
    },
    "kernelspec": {
      "name": "python3",
      "display_name": "Python 3"
    }
  },
  "cells": [
    {
      "cell_type": "markdown",
      "metadata": {
        "id": "view-in-github",
        "colab_type": "text"
      },
      "source": [
        "<a href=\"https://colab.research.google.com/github/google/deepvariant/blob/r1.9/docs/visualizing_examples.ipynb\" target=\"_parent\"><img src=\"https://colab.research.google.com/assets/colab-badge.svg\" alt=\"Open In Colab\"/></a>"
      ]
    },
    {
      "cell_type": "markdown",
      "metadata": {
        "id": "-ZF4GR4A_L1c"
      },
      "source": [
        "This example was done using [Colab](https://colab.research.google.com/\n",
        "). You can read and use the Python code in other environments if you have never used Colab before. For example, we used a path to a file in gs://, but you can also just copy that file to your environment and use a local path instead.\n",
        "\n",
        "This example is for **advanced** users who want to understand the data representation. **You do NOT need to understand this in order to use DeepVariant.**"
      ]
    },
    {
      "cell_type": "markdown",
      "metadata": {
        "id": "AV5gBKsCgF-A"
      },
      "source": [
        "## Did you know there is a `show_examples` binary you can use?\n",
        "\n",
        "There is a `show_examples` binary in https://github.com/google/deepvariant/blob/r1.9/docs/show-examples.md that you can use to visualize DeepVariant examples.\n",
        "\n",
        "`show_examples` uses the same core library used in this Colab."
      ]
    },
    {
      "cell_type": "markdown",
      "metadata": {
        "id": "AS8XlRzD_L1k"
      },
      "source": [
        "# Visualizing DeepVariant examples\n",
        "\n",
        "DeepVariant represents putative variants as pileup image tensors and classifies them using a convolutional neural network.\n",
        "\n",
        "In this notebook, we will inspect some DeepVariant examples and visualize the pileup images.\n",
        "\n",
        "We (the DeepVariant team) also wrote a blog post that explains what these pileup images are and how they are used in DeepVariant:\n",
        "https://google.github.io/deepvariant/posts/2020-02-20-looking-through-deepvariants-eyes/"
      ]
    },
    {
      "cell_type": "code",
      "metadata": {
        "id": "y2Z9eNK7FT6q"
      },
      "source": [
        "! pip install git+https://github.com/google/deepvariant.git@r1.9"
      ],
      "execution_count": null,
      "outputs": []
    },
    {
      "cell_type": "code",
      "source": [
        "#@title Install protoc to be used later.\n",
        "PROTOC_VERSION = \"26.1\" # Example: \"26.1\", \"25.3\", etc. Check releases page for the latest\n",
        "PROTOC_ZIP = f\"protoc-{PROTOC_VERSION}-linux-x86_64.zip\"\n",
        "DOWNLOAD_URL = f\"https://github.com/protocolbuffers/protobuf/releases/download/v{PROTOC_VERSION}/{PROTOC_ZIP}\"\n",
        "\n",
        "# Download the protoc zip file\n",
        "!curl -LO {DOWNLOAD_URL}\n",
        "\n",
        "# Unzip the archive\n",
        "!unzip -o {PROTOC_ZIP} -d protoc_install\n",
        "\n",
        "# Move the protoc binary to a directory in your PATH\n",
        "!sudo mv protoc_install/bin/protoc /usr/local/bin/\n",
        "\n",
        "# Move the include files to a standard location\n",
        "!sudo mv protoc_install/include/* /usr/local/include/\n",
        "\n",
        "# Optional: Clean up the downloaded zip and extracted folder\n",
        "!rm {PROTOC_ZIP}\n",
        "!rm -rf protoc_install\n",
        "\n",
        "# Verify the installation\n",
        "!protoc --version"
      ],
      "metadata": {
        "cellView": "form",
        "id": "EAR1shvqv_gM"
      },
      "execution_count": null,
      "outputs": []
    },
    {
      "cell_type": "code",
      "source": [
        "!git clone https://github.com/google/deepvariant.git\n",
        "%cd deepvariant\n",
        "! git checkout r1.9\n",
        "! sudo python3 setup.py build_proto\n"
      ],
      "metadata": {
        "id": "mtjsoaikwZkf"
      },
      "execution_count": null,
      "outputs": []
    },
    {
      "cell_type": "code",
      "source": [
        "import os\n",
        "os.environ['PYTHONPATH'] += \":/content/deepvariant\" #Adjust the path if necessary\n"
      ],
      "metadata": {
        "id": "vgSPOeGZxp-o"
      },
      "execution_count": null,
      "outputs": []
    },
    {
      "cell_type": "markdown",
      "source": [],
      "metadata": {
        "id": "ehgdgQG5zV6o"
      }
    },
    {
      "cell_type": "code",
      "source": [
        "import deepvariant\n",
        "import tensorflow as tf\n",
        "from third_party.nucleus.util import vis\n",
        "print(tf.__version__)"
      ],
      "metadata": {
        "id": "yVVHgk_uyDpI"
      },
      "execution_count": null,
      "outputs": []
    },
    {
      "cell_type": "markdown",
      "metadata": {
        "id": "9Ntg7xw0JSSd"
      },
      "source": [
        "Download a file of DeepVariant examples from Google Cloud Storage to the local file storage of this notebook. DeepVariant examples are stored in TFRecord format."
      ]
    },
    {
      "cell_type": "code",
      "metadata": {
        "id": "PYEQP7B-Ae2t"
      },
      "source": [
        "!gsutil -q cp gs://deepvariant/datalab-testdata/make_examples_datalab.tfrecord.gz /tmp/make_examples_colab.tfrecord.gz"
      ],
      "execution_count": null,
      "outputs": []
    },
    {
      "cell_type": "code",
      "metadata": {
        "id": "nOjW_uniUAxj"
      },
      "source": [
        "examples_path = '/tmp/make_examples_colab.tfrecord.gz'"
      ],
      "execution_count": null,
      "outputs": []
    },
    {
      "cell_type": "markdown",
      "metadata": {
        "id": "caRpnLLgIAte"
      },
      "source": [
        "# Show one DeepVariant example\n",
        "We will use the nucleus.util.vis module to inspect and visualize a single DeepVariant example."
      ]
    },
    {
      "cell_type": "code",
      "metadata": {
        "id": "LI11fJoHF_Qp",
        "outputId": "c42bc86c-d122-4300-a31b-12562a4b0182",
        "colab": {
          "base_uri": "https://localhost:8080/",
          "height": 189
        }
      },
      "source": [
        "dataset = tf.data.TFRecordDataset(examples_path, compression_type=\"GZIP\")\n",
        "\n",
        "# Take a single example and show the deepvariant pileup image for it.\n",
        "for e in dataset.take(1):\n",
        "  example = tf.train.Example()\n",
        "  example.ParseFromString(e.numpy())\n",
        "\n",
        "  # For example, in chr20:19503712_T_C, T is the reference allele and C is the\n",
        "  # alternate allele that is proposed in this pileup image.\n",
        "  print(\"Locus ID with alt:\", vis.locus_id_with_alt(example))\n",
        "  print(\"Draw the channels:\")\n",
        "  vis.draw_deepvariant_pileup(example)\n",
        "\n",
        "  print(\"Truth label:\", vis.label_from_example(example))"
      ],
      "execution_count": null,
      "outputs": [
        {
          "output_type": "stream",
          "name": "stdout",
          "text": [
            "Locus ID with alt: chr20:19503712_T_C\n",
            "Draw the channels:\n"
          ]
        },
        {
          "output_type": "display_data",
          "data": {
            "image/png": "[encoded data removed]",
            "text/plain": [
              "<IPython.core.display.Image object>"
            ]
          },
          "metadata": {}
        },
        {
          "output_type": "stream",
          "name": "stdout",
          "text": [
            "Truth label: 1\n"
          ]
        }
      ]
    },
    {
      "cell_type": "markdown",
      "metadata": {
        "id": "6GMIhtT1JyRX"
      },
      "source": [
        "# You can also save the images as .png files"
      ]
    },
    {
      "cell_type": "code",
      "metadata": {
        "id": "iHWZiV82Jwwy"
      },
      "source": [
        "for e in dataset.take(10):\n",
        "  example = tf.train.Example()\n",
        "  example.ParseFromString(e.numpy())\n",
        "\n",
        "  # For example, in chr20:19503712_T_C, T is the reference allele and C is the\n",
        "  # alternate allele that is proposed in this pileup image.\n",
        "  filename = 'pileup_{}_truth={}.png'.format(vis.locus_id_with_alt(example), vis.label_from_example(example))\n",
        "  vis.draw_deepvariant_pileup(example, path=filename, show=False)"
      ],
      "execution_count": null,
      "outputs": []
    },
    {
      "cell_type": "markdown",
      "metadata": {
        "id": "eP7cgpvYefXF"
      },
      "source": [
        "This creates 10 PNG images labeled with locus IDs and truth labels."
      ]
    },
    {
      "cell_type": "code",
      "metadata": {
        "id": "_sxWsvFQZki9",
        "outputId": "6256118f-fb56-4152-f132-841baab5f274",
        "colab": {
          "base_uri": "https://localhost:8080/"
        }
      },
      "source": [
        "! ls *png"
      ],
      "execution_count": null,
      "outputs": [
        {
          "output_type": "stream",
          "name": "stdout",
          "text": [
            "'pileup_chr20:12534952_A_G_truth=1.png'\n",
            "'pileup_chr20:19503712_T_C_truth=1.png'\n",
            "'pileup_chr20:24448381_T_A_truth=2.png'\n",
            "'pileup_chr20:32765978_A_G_truth=1.png'\n",
            "'pileup_chr20:37886261_G_A_truth=1.png'\n",
            "'pileup_chr20:55019799_C_T_truth=1.png'\n",
            "'pileup_chr20:59581048_T_G_truth=0.png'\n",
            "'pileup_chr20:64063271_A_G_truth=0.png'\n",
            "'pileup_chr20:7912729_G_A_truth=1.png'\n",
            "'pileup_chr20:845848_G_C_truth=2.png'\n"
          ]
        }
      ]
    },
    {
      "cell_type": "markdown",
      "metadata": {
        "id": "TnYFOI03ZzIK"
      },
      "source": [
        "## Flexible, modular functions\n",
        "The nucleus.util.vis library also has smaller building blocks you can use if you need more flexibility."
      ]
    },
    {
      "cell_type": "code",
      "metadata": {
        "id": "Sy4vkwgsaBEo",
        "outputId": "886bb1fe-00aa-4544-f3d8-378d109455a6",
        "colab": {
          "base_uri": "https://localhost:8080/",
          "height": 998
        }
      },
      "source": [
        "for e in dataset.take(1):\n",
        "  example = tf.train.Example()\n",
        "  example.ParseFromString(e.numpy())\n",
        "  print(\"Extracting the variant:\")\n",
        "  print(vis.variant_from_example(example))\n",
        "\n",
        "  # Get the pileup image as an array.\n",
        "  arr = vis.get_image_array_from_example(example)\n",
        "  print(\"\\nShape of the pileup numpy array:\", arr.shape)\n",
        "  # Split that array into channels.\n",
        "  channels = vis.split_3d_array_into_channels(arr)\n",
        "  print(\"\\nNumber of channels:\", len(channels))\n",
        "\n",
        "  # Visualize the numpy array as an image.\n",
        "  print(\"\\nShowing just the first channel:\")\n",
        "  vis.array_to_png(channels[0])"
      ],
      "execution_count": null,
      "outputs": [
        {
          "output_type": "stream",
          "name": "stdout",
          "text": [
            "Extracting the variant:\n",
            "reference_bases: \"T\"\n",
            "alternate_bases: \"C\"\n",
            "calls {\n",
            "  info {\n",
            "    key: \"VAF\"\n",
            "    value {\n",
            "      values {\n",
            "        number_value: 0.43636363636363634\n",
            "      }\n",
            "    }\n",
            "  }\n",
            "  info {\n",
            "    key: \"DP\"\n",
            "    value {\n",
            "      values {\n",
            "        number_value: 55\n",
            "      }\n",
            "    }\n",
            "  }\n",
            "  info {\n",
            "    key: \"AD\"\n",
            "    value {\n",
            "      values {\n",
            "        number_value: 31\n",
            "      }\n",
            "      values {\n",
            "        number_value: 24\n",
            "      }\n",
            "    }\n",
            "  }\n",
            "  genotype: -1\n",
            "  genotype: -1\n",
            "  call_set_name: \"training\"\n",
            "}\n",
            "end: 19503713\n",
            "reference_name: \"chr20\"\n",
            "start: 19503712\n",
            "\n",
            "\n",
            "Shape of the pileup numpy array: (100, 221, 6)\n",
            "\n",
            "Number of channels: 6\n",
            "\n",
            "Showing just the first channel:\n"
          ]
        },
        {
          "output_type": "display_data",
          "data": {
            "image/png": "[encoded data removed]",
            "text/plain": [
              "<IPython.core.display.Image object>"
            ]
          },
          "metadata": {}
        }
      ]
    }
  ]
}
